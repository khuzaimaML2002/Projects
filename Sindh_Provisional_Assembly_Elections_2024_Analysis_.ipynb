{
  "nbformat": 4,
  "nbformat_minor": 0,
  "metadata": {
    "colab": {
      "provenance": []
    },
    "kernelspec": {
      "name": "python3",
      "display_name": "Python 3"
    },
    "language_info": {
      "name": "python"
    }
  },
  "cells": [
    {
      "cell_type": "markdown",
      "source": [
        "<center>\n",
        "<img src=\"https://cdn-icons-png.freepik.com/256/6566/6566731.png?ga=GA1.1.790567652.1708766911&\" alt=\"Voting\" width=\"200\" height=\"200\">\n",
        "\n",
        "**Sindh Provisional Assembly Elections *Form-47* 2024 Analysis**\n",
        "</center>\n",
        "\n"
      ],
      "metadata": {
        "id": "VDY1CDtPfgQR"
      }
    },
    {
      "cell_type": "code",
      "source": [
        "import pandas as pd\n",
        "import matplotlib.pyplot as plt"
      ],
      "metadata": {
        "id": "A8UMxAPPeYLB"
      },
      "execution_count": 66,
      "outputs": []
    },
    {
      "cell_type": "markdown",
      "source": [
        "**Loading the Dataset**"
      ],
      "metadata": {
        "id": "GgOxjWXVgzBR"
      }
    },
    {
      "cell_type": "code",
      "source": [
        "df = pd.read_csv('Sindh Assambly.csv')\n",
        "df.head()"
      ],
      "metadata": {
        "colab": {
          "base_uri": "https://localhost:8080/",
          "height": 276
        },
        "id": "i1-wZsljgvHl",
        "outputId": "df4cfd84-19da-4075-b4bf-16b08ea6398e"
      },
      "execution_count": 67,
      "outputs": [
        {
          "output_type": "execute_result",
          "data": {
            "text/plain": [
              "  Sectored Number  Sector Name Total Voters Total Male Voters  \\\n",
              "0            PS-1  Jacobabad-1      214,229           114,290   \n",
              "1            PS-2  Jacobabad-2      181,116            96,467   \n",
              "2            PS-3  Jacobabad-3      196,661           105,805   \n",
              "3            PS-4    Kashmor-1      193,419           104,505   \n",
              "4            PS-5    Kashmor-2      205,668           110,871   \n",
              "\n",
              "  Total Female Voters Male Vote Casted Female Vote Casted Total Vote Casted  \\\n",
              "0              99,939           46,957             32,667            79,624   \n",
              "1              84,649           58,884             51,002           109,886   \n",
              "2              90,856           46,927             35,702            82,629   \n",
              "3              88,914           53,734             42,499            96,233   \n",
              "4              94,797           45,594             26,694            72,288   \n",
              "\n",
              "  Accepted Votes Discarded Votes Winning Party  \n",
              "0         76,016           3,608           PPP  \n",
              "1        105,634           4,252           PPP  \n",
              "2         75,172           7,457           IND  \n",
              "3         90,199           6,034           PPP  \n",
              "4         66,197           6,091           PPP  "
            ],
            "text/html": [
              "\n",
              "  <div id=\"df-502b6cd6-30e8-493a-bc4b-a5c5c47754f9\" class=\"colab-df-container\">\n",
              "    <div>\n",
              "<style scoped>\n",
              "    .dataframe tbody tr th:only-of-type {\n",
              "        vertical-align: middle;\n",
              "    }\n",
              "\n",
              "    .dataframe tbody tr th {\n",
              "        vertical-align: top;\n",
              "    }\n",
              "\n",
              "    .dataframe thead th {\n",
              "        text-align: right;\n",
              "    }\n",
              "</style>\n",
              "<table border=\"1\" class=\"dataframe\">\n",
              "  <thead>\n",
              "    <tr style=\"text-align: right;\">\n",
              "      <th></th>\n",
              "      <th>Sectored Number</th>\n",
              "      <th>Sector Name</th>\n",
              "      <th>Total Voters</th>\n",
              "      <th>Total Male Voters</th>\n",
              "      <th>Total Female Voters</th>\n",
              "      <th>Male Vote Casted</th>\n",
              "      <th>Female Vote Casted</th>\n",
              "      <th>Total Vote Casted</th>\n",
              "      <th>Accepted Votes</th>\n",
              "      <th>Discarded Votes</th>\n",
              "      <th>Winning Party</th>\n",
              "    </tr>\n",
              "  </thead>\n",
              "  <tbody>\n",
              "    <tr>\n",
              "      <th>0</th>\n",
              "      <td>PS-1</td>\n",
              "      <td>Jacobabad-1</td>\n",
              "      <td>214,229</td>\n",
              "      <td>114,290</td>\n",
              "      <td>99,939</td>\n",
              "      <td>46,957</td>\n",
              "      <td>32,667</td>\n",
              "      <td>79,624</td>\n",
              "      <td>76,016</td>\n",
              "      <td>3,608</td>\n",
              "      <td>PPP</td>\n",
              "    </tr>\n",
              "    <tr>\n",
              "      <th>1</th>\n",
              "      <td>PS-2</td>\n",
              "      <td>Jacobabad-2</td>\n",
              "      <td>181,116</td>\n",
              "      <td>96,467</td>\n",
              "      <td>84,649</td>\n",
              "      <td>58,884</td>\n",
              "      <td>51,002</td>\n",
              "      <td>109,886</td>\n",
              "      <td>105,634</td>\n",
              "      <td>4,252</td>\n",
              "      <td>PPP</td>\n",
              "    </tr>\n",
              "    <tr>\n",
              "      <th>2</th>\n",
              "      <td>PS-3</td>\n",
              "      <td>Jacobabad-3</td>\n",
              "      <td>196,661</td>\n",
              "      <td>105,805</td>\n",
              "      <td>90,856</td>\n",
              "      <td>46,927</td>\n",
              "      <td>35,702</td>\n",
              "      <td>82,629</td>\n",
              "      <td>75,172</td>\n",
              "      <td>7,457</td>\n",
              "      <td>IND</td>\n",
              "    </tr>\n",
              "    <tr>\n",
              "      <th>3</th>\n",
              "      <td>PS-4</td>\n",
              "      <td>Kashmor-1</td>\n",
              "      <td>193,419</td>\n",
              "      <td>104,505</td>\n",
              "      <td>88,914</td>\n",
              "      <td>53,734</td>\n",
              "      <td>42,499</td>\n",
              "      <td>96,233</td>\n",
              "      <td>90,199</td>\n",
              "      <td>6,034</td>\n",
              "      <td>PPP</td>\n",
              "    </tr>\n",
              "    <tr>\n",
              "      <th>4</th>\n",
              "      <td>PS-5</td>\n",
              "      <td>Kashmor-2</td>\n",
              "      <td>205,668</td>\n",
              "      <td>110,871</td>\n",
              "      <td>94,797</td>\n",
              "      <td>45,594</td>\n",
              "      <td>26,694</td>\n",
              "      <td>72,288</td>\n",
              "      <td>66,197</td>\n",
              "      <td>6,091</td>\n",
              "      <td>PPP</td>\n",
              "    </tr>\n",
              "  </tbody>\n",
              "</table>\n",
              "</div>\n",
              "    <div class=\"colab-df-buttons\">\n",
              "\n",
              "  <div class=\"colab-df-container\">\n",
              "    <button class=\"colab-df-convert\" onclick=\"convertToInteractive('df-502b6cd6-30e8-493a-bc4b-a5c5c47754f9')\"\n",
              "            title=\"Convert this dataframe to an interactive table.\"\n",
              "            style=\"display:none;\">\n",
              "\n",
              "  <svg xmlns=\"http://www.w3.org/2000/svg\" height=\"24px\" viewBox=\"0 -960 960 960\">\n",
              "    <path d=\"M120-120v-720h720v720H120Zm60-500h600v-160H180v160Zm220 220h160v-160H400v160Zm0 220h160v-160H400v160ZM180-400h160v-160H180v160Zm440 0h160v-160H620v160ZM180-180h160v-160H180v160Zm440 0h160v-160H620v160Z\"/>\n",
              "  </svg>\n",
              "    </button>\n",
              "\n",
              "  <style>\n",
              "    .colab-df-container {\n",
              "      display:flex;\n",
              "      gap: 12px;\n",
              "    }\n",
              "\n",
              "    .colab-df-convert {\n",
              "      background-color: #E8F0FE;\n",
              "      border: none;\n",
              "      border-radius: 50%;\n",
              "      cursor: pointer;\n",
              "      display: none;\n",
              "      fill: #1967D2;\n",
              "      height: 32px;\n",
              "      padding: 0 0 0 0;\n",
              "      width: 32px;\n",
              "    }\n",
              "\n",
              "    .colab-df-convert:hover {\n",
              "      background-color: #E2EBFA;\n",
              "      box-shadow: 0px 1px 2px rgba(60, 64, 67, 0.3), 0px 1px 3px 1px rgba(60, 64, 67, 0.15);\n",
              "      fill: #174EA6;\n",
              "    }\n",
              "\n",
              "    .colab-df-buttons div {\n",
              "      margin-bottom: 4px;\n",
              "    }\n",
              "\n",
              "    [theme=dark] .colab-df-convert {\n",
              "      background-color: #3B4455;\n",
              "      fill: #D2E3FC;\n",
              "    }\n",
              "\n",
              "    [theme=dark] .colab-df-convert:hover {\n",
              "      background-color: #434B5C;\n",
              "      box-shadow: 0px 1px 3px 1px rgba(0, 0, 0, 0.15);\n",
              "      filter: drop-shadow(0px 1px 2px rgba(0, 0, 0, 0.3));\n",
              "      fill: #FFFFFF;\n",
              "    }\n",
              "  </style>\n",
              "\n",
              "    <script>\n",
              "      const buttonEl =\n",
              "        document.querySelector('#df-502b6cd6-30e8-493a-bc4b-a5c5c47754f9 button.colab-df-convert');\n",
              "      buttonEl.style.display =\n",
              "        google.colab.kernel.accessAllowed ? 'block' : 'none';\n",
              "\n",
              "      async function convertToInteractive(key) {\n",
              "        const element = document.querySelector('#df-502b6cd6-30e8-493a-bc4b-a5c5c47754f9');\n",
              "        const dataTable =\n",
              "          await google.colab.kernel.invokeFunction('convertToInteractive',\n",
              "                                                    [key], {});\n",
              "        if (!dataTable) return;\n",
              "\n",
              "        const docLinkHtml = 'Like what you see? Visit the ' +\n",
              "          '<a target=\"_blank\" href=https://colab.research.google.com/notebooks/data_table.ipynb>data table notebook</a>'\n",
              "          + ' to learn more about interactive tables.';\n",
              "        element.innerHTML = '';\n",
              "        dataTable['output_type'] = 'display_data';\n",
              "        await google.colab.output.renderOutput(dataTable, element);\n",
              "        const docLink = document.createElement('div');\n",
              "        docLink.innerHTML = docLinkHtml;\n",
              "        element.appendChild(docLink);\n",
              "      }\n",
              "    </script>\n",
              "  </div>\n",
              "\n",
              "\n",
              "<div id=\"df-db1af460-f21e-4f38-ac97-8295296f2157\">\n",
              "  <button class=\"colab-df-quickchart\" onclick=\"quickchart('df-db1af460-f21e-4f38-ac97-8295296f2157')\"\n",
              "            title=\"Suggest charts\"\n",
              "            style=\"display:none;\">\n",
              "\n",
              "<svg xmlns=\"http://www.w3.org/2000/svg\" height=\"24px\"viewBox=\"0 0 24 24\"\n",
              "     width=\"24px\">\n",
              "    <g>\n",
              "        <path d=\"M19 3H5c-1.1 0-2 .9-2 2v14c0 1.1.9 2 2 2h14c1.1 0 2-.9 2-2V5c0-1.1-.9-2-2-2zM9 17H7v-7h2v7zm4 0h-2V7h2v10zm4 0h-2v-4h2v4z\"/>\n",
              "    </g>\n",
              "</svg>\n",
              "  </button>\n",
              "\n",
              "<style>\n",
              "  .colab-df-quickchart {\n",
              "      --bg-color: #E8F0FE;\n",
              "      --fill-color: #1967D2;\n",
              "      --hover-bg-color: #E2EBFA;\n",
              "      --hover-fill-color: #174EA6;\n",
              "      --disabled-fill-color: #AAA;\n",
              "      --disabled-bg-color: #DDD;\n",
              "  }\n",
              "\n",
              "  [theme=dark] .colab-df-quickchart {\n",
              "      --bg-color: #3B4455;\n",
              "      --fill-color: #D2E3FC;\n",
              "      --hover-bg-color: #434B5C;\n",
              "      --hover-fill-color: #FFFFFF;\n",
              "      --disabled-bg-color: #3B4455;\n",
              "      --disabled-fill-color: #666;\n",
              "  }\n",
              "\n",
              "  .colab-df-quickchart {\n",
              "    background-color: var(--bg-color);\n",
              "    border: none;\n",
              "    border-radius: 50%;\n",
              "    cursor: pointer;\n",
              "    display: none;\n",
              "    fill: var(--fill-color);\n",
              "    height: 32px;\n",
              "    padding: 0;\n",
              "    width: 32px;\n",
              "  }\n",
              "\n",
              "  .colab-df-quickchart:hover {\n",
              "    background-color: var(--hover-bg-color);\n",
              "    box-shadow: 0 1px 2px rgba(60, 64, 67, 0.3), 0 1px 3px 1px rgba(60, 64, 67, 0.15);\n",
              "    fill: var(--button-hover-fill-color);\n",
              "  }\n",
              "\n",
              "  .colab-df-quickchart-complete:disabled,\n",
              "  .colab-df-quickchart-complete:disabled:hover {\n",
              "    background-color: var(--disabled-bg-color);\n",
              "    fill: var(--disabled-fill-color);\n",
              "    box-shadow: none;\n",
              "  }\n",
              "\n",
              "  .colab-df-spinner {\n",
              "    border: 2px solid var(--fill-color);\n",
              "    border-color: transparent;\n",
              "    border-bottom-color: var(--fill-color);\n",
              "    animation:\n",
              "      spin 1s steps(1) infinite;\n",
              "  }\n",
              "\n",
              "  @keyframes spin {\n",
              "    0% {\n",
              "      border-color: transparent;\n",
              "      border-bottom-color: var(--fill-color);\n",
              "      border-left-color: var(--fill-color);\n",
              "    }\n",
              "    20% {\n",
              "      border-color: transparent;\n",
              "      border-left-color: var(--fill-color);\n",
              "      border-top-color: var(--fill-color);\n",
              "    }\n",
              "    30% {\n",
              "      border-color: transparent;\n",
              "      border-left-color: var(--fill-color);\n",
              "      border-top-color: var(--fill-color);\n",
              "      border-right-color: var(--fill-color);\n",
              "    }\n",
              "    40% {\n",
              "      border-color: transparent;\n",
              "      border-right-color: var(--fill-color);\n",
              "      border-top-color: var(--fill-color);\n",
              "    }\n",
              "    60% {\n",
              "      border-color: transparent;\n",
              "      border-right-color: var(--fill-color);\n",
              "    }\n",
              "    80% {\n",
              "      border-color: transparent;\n",
              "      border-right-color: var(--fill-color);\n",
              "      border-bottom-color: var(--fill-color);\n",
              "    }\n",
              "    90% {\n",
              "      border-color: transparent;\n",
              "      border-bottom-color: var(--fill-color);\n",
              "    }\n",
              "  }\n",
              "</style>\n",
              "\n",
              "  <script>\n",
              "    async function quickchart(key) {\n",
              "      const quickchartButtonEl =\n",
              "        document.querySelector('#' + key + ' button');\n",
              "      quickchartButtonEl.disabled = true;  // To prevent multiple clicks.\n",
              "      quickchartButtonEl.classList.add('colab-df-spinner');\n",
              "      try {\n",
              "        const charts = await google.colab.kernel.invokeFunction(\n",
              "            'suggestCharts', [key], {});\n",
              "      } catch (error) {\n",
              "        console.error('Error during call to suggestCharts:', error);\n",
              "      }\n",
              "      quickchartButtonEl.classList.remove('colab-df-spinner');\n",
              "      quickchartButtonEl.classList.add('colab-df-quickchart-complete');\n",
              "    }\n",
              "    (() => {\n",
              "      let quickchartButtonEl =\n",
              "        document.querySelector('#df-db1af460-f21e-4f38-ac97-8295296f2157 button');\n",
              "      quickchartButtonEl.style.display =\n",
              "        google.colab.kernel.accessAllowed ? 'block' : 'none';\n",
              "    })();\n",
              "  </script>\n",
              "</div>\n",
              "\n",
              "    </div>\n",
              "  </div>\n"
            ],
            "application/vnd.google.colaboratory.intrinsic+json": {
              "type": "dataframe",
              "variable_name": "df",
              "summary": "{\n  \"name\": \"df\",\n  \"rows\": 130,\n  \"fields\": [\n    {\n      \"column\": \"Sectored Number\",\n      \"properties\": {\n        \"dtype\": \"string\",\n        \"num_unique_values\": 130,\n        \"samples\": [\n          \"PS-56\",\n          \"PS-41\",\n          \"PS-20\"\n        ],\n        \"semantic_type\": \"\",\n        \"description\": \"\"\n      }\n    },\n    {\n      \"column\": \"Sector Name\",\n      \"properties\": {\n        \"dtype\": \"string\",\n        \"num_unique_values\": 130,\n        \"samples\": [\n          \"Mutiari-1\",\n          \"Sanghar-2\",\n          \"Ghotki-3\"\n        ],\n        \"semantic_type\": \"\",\n        \"description\": \"\"\n      }\n    },\n    {\n      \"column\": \"Total Voters\",\n      \"properties\": {\n        \"dtype\": \"string\",\n        \"num_unique_values\": 130,\n        \"samples\": [\n          \"217,011\",\n          \"248,842\",\n          \"227,023\"\n        ],\n        \"semantic_type\": \"\",\n        \"description\": \"\"\n      }\n    },\n    {\n      \"column\": \"Total Male Voters\",\n      \"properties\": {\n        \"dtype\": \"string\",\n        \"num_unique_values\": 130,\n        \"samples\": [\n          \"114,097\",\n          \"133,796\",\n          \"122,208\"\n        ],\n        \"semantic_type\": \"\",\n        \"description\": \"\"\n      }\n    },\n    {\n      \"column\": \"Total Female Voters\",\n      \"properties\": {\n        \"dtype\": \"string\",\n        \"num_unique_values\": 130,\n        \"samples\": [\n          \"102,914\",\n          \"115,046\",\n          \"104,815\"\n        ],\n        \"semantic_type\": \"\",\n        \"description\": \"\"\n      }\n    },\n    {\n      \"column\": \"Male Vote Casted\",\n      \"properties\": {\n        \"dtype\": \"string\",\n        \"num_unique_values\": 130,\n        \"samples\": [\n          \"65,760\",\n          \"74,940\",\n          \"59,959\"\n        ],\n        \"semantic_type\": \"\",\n        \"description\": \"\"\n      }\n    },\n    {\n      \"column\": \"Female Vote Casted\",\n      \"properties\": {\n        \"dtype\": \"string\",\n        \"num_unique_values\": 130,\n        \"samples\": [\n          \"53,100\",\n          \"61,822\",\n          \"47,860\"\n        ],\n        \"semantic_type\": \"\",\n        \"description\": \"\"\n      }\n    },\n    {\n      \"column\": \"Total Vote Casted\",\n      \"properties\": {\n        \"dtype\": \"string\",\n        \"num_unique_values\": 130,\n        \"samples\": [\n          \"118,860\",\n          \"136,762\",\n          \"107,819\"\n        ],\n        \"semantic_type\": \"\",\n        \"description\": \"\"\n      }\n    },\n    {\n      \"column\": \"Accepted Votes\",\n      \"properties\": {\n        \"dtype\": \"string\",\n        \"num_unique_values\": 130,\n        \"samples\": [\n          \"115,411\",\n          \"129,218\",\n          \"104,151\"\n        ],\n        \"semantic_type\": \"\",\n        \"description\": \"\"\n      }\n    },\n    {\n      \"column\": \"Discarded Votes\",\n      \"properties\": {\n        \"dtype\": \"string\",\n        \"num_unique_values\": 127,\n        \"samples\": [\n          \"2,400\",\n          \"132\",\n          \"1,385\"\n        ],\n        \"semantic_type\": \"\",\n        \"description\": \"\"\n      }\n    },\n    {\n      \"column\": \"Winning Party\",\n      \"properties\": {\n        \"dtype\": \"category\",\n        \"num_unique_values\": 5,\n        \"samples\": [\n          \"IND\",\n          \"JIP\",\n          \"GDA\"\n        ],\n        \"semantic_type\": \"\",\n        \"description\": \"\"\n      }\n    }\n  ]\n}"
            }
          },
          "metadata": {},
          "execution_count": 67
        }
      ]
    },
    {
      "cell_type": "markdown",
      "source": [
        "**Checking the data types**"
      ],
      "metadata": {
        "id": "6KC0_L36jtb7"
      }
    },
    {
      "cell_type": "code",
      "source": [
        "print(df.select_dtypes(include='object').apply(lambda x: x.str.isdigit().all()))"
      ],
      "metadata": {
        "colab": {
          "base_uri": "https://localhost:8080/"
        },
        "id": "BRsBlj7XiAAm",
        "outputId": "b00ab224-b909-46c5-90e3-e183c8d85ee6"
      },
      "execution_count": 68,
      "outputs": [
        {
          "output_type": "stream",
          "name": "stdout",
          "text": [
            "Sectored Number        False\n",
            "Sector Name            False\n",
            "Total Voters           False\n",
            "Total Male Voters      False\n",
            "Total Female Voters    False\n",
            "Male Vote Casted       False\n",
            "Female Vote Casted     False\n",
            "Total Vote Casted      False\n",
            "Accepted Votes         False\n",
            "Discarded Votes        False\n",
            "Winning Party          False\n",
            "dtype: bool\n"
          ]
        }
      ]
    },
    {
      "cell_type": "code",
      "source": [
        "try:\n",
        "  df_numeric = df.select_dtypes(include='object').apply(pd.to_numeric)\n",
        "except:\n",
        "  print(\"Error: Non-numeric values found.\")"
      ],
      "metadata": {
        "colab": {
          "base_uri": "https://localhost:8080/"
        },
        "id": "6z_LQaIoiWXF",
        "outputId": "c6d5dc11-cb2a-4f81-da8f-14a41786796c"
      },
      "execution_count": 69,
      "outputs": [
        {
          "output_type": "stream",
          "name": "stdout",
          "text": [
            "Error: Non-numeric values found.\n"
          ]
        }
      ]
    },
    {
      "cell_type": "markdown",
      "source": [
        "**Remvoving the Special Characters**"
      ],
      "metadata": {
        "id": "ww2zAQZoj8sw"
      }
    },
    {
      "cell_type": "code",
      "source": [
        "df['Total Voters'] = df['Total Voters'].str.replace(r',', '')\n",
        "df['Total Male Voters'] = df['Total Male Voters'].str.replace(r',', '')\n",
        "df['Total Female Voters'] = df['Total Female Voters'].str.replace(r',', '')\n",
        "df['Male Vote Casted'] = df['Male Vote Casted'].str.replace(r',', '')\n",
        "df['Female Vote Casted'] = df['Female Vote Casted'].str.replace(r',', '')\n",
        "df['Total Vote Casted'] = df['Total Vote Casted'].str.replace(r',', '')\n",
        "df['Accepted Votes'] = df['Accepted Votes'].str.replace(r',', '')\n",
        "df['Discarded Votes'] = df['Discarded Votes'].str.replace(r',', '')\n",
        "df['Sector Name'] = df['Sector Name'].apply(lambda x: x.split('-')[0])"
      ],
      "metadata": {
        "id": "L0OyC4TAklhP"
      },
      "execution_count": 70,
      "outputs": []
    },
    {
      "cell_type": "code",
      "source": [
        "df.head()"
      ],
      "metadata": {
        "colab": {
          "base_uri": "https://localhost:8080/",
          "height": 223
        },
        "id": "_qPJ6MFHkTFh",
        "outputId": "5b037611-8ef5-4575-9591-54b5f60e560c"
      },
      "execution_count": 71,
      "outputs": [
        {
          "output_type": "execute_result",
          "data": {
            "text/plain": [
              "  Sectored Number Sector Name Total Voters Total Male Voters  \\\n",
              "0            PS-1   Jacobabad       214229            114290   \n",
              "1            PS-2   Jacobabad       181116             96467   \n",
              "2            PS-3   Jacobabad       196661            105805   \n",
              "3            PS-4     Kashmor       193419            104505   \n",
              "4            PS-5     Kashmor       205668            110871   \n",
              "\n",
              "  Total Female Voters Male Vote Casted Female Vote Casted Total Vote Casted  \\\n",
              "0               99939            46957              32667             79624   \n",
              "1               84649            58884              51002            109886   \n",
              "2               90856            46927              35702             82629   \n",
              "3               88914            53734              42499             96233   \n",
              "4               94797            45594              26694             72288   \n",
              "\n",
              "  Accepted Votes Discarded Votes Winning Party  \n",
              "0          76016            3608           PPP  \n",
              "1         105634            4252           PPP  \n",
              "2          75172            7457           IND  \n",
              "3          90199            6034           PPP  \n",
              "4          66197            6091           PPP  "
            ],
            "text/html": [
              "\n",
              "  <div id=\"df-6131de69-ff39-4ef2-b81a-1c6ca172db14\" class=\"colab-df-container\">\n",
              "    <div>\n",
              "<style scoped>\n",
              "    .dataframe tbody tr th:only-of-type {\n",
              "        vertical-align: middle;\n",
              "    }\n",
              "\n",
              "    .dataframe tbody tr th {\n",
              "        vertical-align: top;\n",
              "    }\n",
              "\n",
              "    .dataframe thead th {\n",
              "        text-align: right;\n",
              "    }\n",
              "</style>\n",
              "<table border=\"1\" class=\"dataframe\">\n",
              "  <thead>\n",
              "    <tr style=\"text-align: right;\">\n",
              "      <th></th>\n",
              "      <th>Sectored Number</th>\n",
              "      <th>Sector Name</th>\n",
              "      <th>Total Voters</th>\n",
              "      <th>Total Male Voters</th>\n",
              "      <th>Total Female Voters</th>\n",
              "      <th>Male Vote Casted</th>\n",
              "      <th>Female Vote Casted</th>\n",
              "      <th>Total Vote Casted</th>\n",
              "      <th>Accepted Votes</th>\n",
              "      <th>Discarded Votes</th>\n",
              "      <th>Winning Party</th>\n",
              "    </tr>\n",
              "  </thead>\n",
              "  <tbody>\n",
              "    <tr>\n",
              "      <th>0</th>\n",
              "      <td>PS-1</td>\n",
              "      <td>Jacobabad</td>\n",
              "      <td>214229</td>\n",
              "      <td>114290</td>\n",
              "      <td>99939</td>\n",
              "      <td>46957</td>\n",
              "      <td>32667</td>\n",
              "      <td>79624</td>\n",
              "      <td>76016</td>\n",
              "      <td>3608</td>\n",
              "      <td>PPP</td>\n",
              "    </tr>\n",
              "    <tr>\n",
              "      <th>1</th>\n",
              "      <td>PS-2</td>\n",
              "      <td>Jacobabad</td>\n",
              "      <td>181116</td>\n",
              "      <td>96467</td>\n",
              "      <td>84649</td>\n",
              "      <td>58884</td>\n",
              "      <td>51002</td>\n",
              "      <td>109886</td>\n",
              "      <td>105634</td>\n",
              "      <td>4252</td>\n",
              "      <td>PPP</td>\n",
              "    </tr>\n",
              "    <tr>\n",
              "      <th>2</th>\n",
              "      <td>PS-3</td>\n",
              "      <td>Jacobabad</td>\n",
              "      <td>196661</td>\n",
              "      <td>105805</td>\n",
              "      <td>90856</td>\n",
              "      <td>46927</td>\n",
              "      <td>35702</td>\n",
              "      <td>82629</td>\n",
              "      <td>75172</td>\n",
              "      <td>7457</td>\n",
              "      <td>IND</td>\n",
              "    </tr>\n",
              "    <tr>\n",
              "      <th>3</th>\n",
              "      <td>PS-4</td>\n",
              "      <td>Kashmor</td>\n",
              "      <td>193419</td>\n",
              "      <td>104505</td>\n",
              "      <td>88914</td>\n",
              "      <td>53734</td>\n",
              "      <td>42499</td>\n",
              "      <td>96233</td>\n",
              "      <td>90199</td>\n",
              "      <td>6034</td>\n",
              "      <td>PPP</td>\n",
              "    </tr>\n",
              "    <tr>\n",
              "      <th>4</th>\n",
              "      <td>PS-5</td>\n",
              "      <td>Kashmor</td>\n",
              "      <td>205668</td>\n",
              "      <td>110871</td>\n",
              "      <td>94797</td>\n",
              "      <td>45594</td>\n",
              "      <td>26694</td>\n",
              "      <td>72288</td>\n",
              "      <td>66197</td>\n",
              "      <td>6091</td>\n",
              "      <td>PPP</td>\n",
              "    </tr>\n",
              "  </tbody>\n",
              "</table>\n",
              "</div>\n",
              "    <div class=\"colab-df-buttons\">\n",
              "\n",
              "  <div class=\"colab-df-container\">\n",
              "    <button class=\"colab-df-convert\" onclick=\"convertToInteractive('df-6131de69-ff39-4ef2-b81a-1c6ca172db14')\"\n",
              "            title=\"Convert this dataframe to an interactive table.\"\n",
              "            style=\"display:none;\">\n",
              "\n",
              "  <svg xmlns=\"http://www.w3.org/2000/svg\" height=\"24px\" viewBox=\"0 -960 960 960\">\n",
              "    <path d=\"M120-120v-720h720v720H120Zm60-500h600v-160H180v160Zm220 220h160v-160H400v160Zm0 220h160v-160H400v160ZM180-400h160v-160H180v160Zm440 0h160v-160H620v160ZM180-180h160v-160H180v160Zm440 0h160v-160H620v160Z\"/>\n",
              "  </svg>\n",
              "    </button>\n",
              "\n",
              "  <style>\n",
              "    .colab-df-container {\n",
              "      display:flex;\n",
              "      gap: 12px;\n",
              "    }\n",
              "\n",
              "    .colab-df-convert {\n",
              "      background-color: #E8F0FE;\n",
              "      border: none;\n",
              "      border-radius: 50%;\n",
              "      cursor: pointer;\n",
              "      display: none;\n",
              "      fill: #1967D2;\n",
              "      height: 32px;\n",
              "      padding: 0 0 0 0;\n",
              "      width: 32px;\n",
              "    }\n",
              "\n",
              "    .colab-df-convert:hover {\n",
              "      background-color: #E2EBFA;\n",
              "      box-shadow: 0px 1px 2px rgba(60, 64, 67, 0.3), 0px 1px 3px 1px rgba(60, 64, 67, 0.15);\n",
              "      fill: #174EA6;\n",
              "    }\n",
              "\n",
              "    .colab-df-buttons div {\n",
              "      margin-bottom: 4px;\n",
              "    }\n",
              "\n",
              "    [theme=dark] .colab-df-convert {\n",
              "      background-color: #3B4455;\n",
              "      fill: #D2E3FC;\n",
              "    }\n",
              "\n",
              "    [theme=dark] .colab-df-convert:hover {\n",
              "      background-color: #434B5C;\n",
              "      box-shadow: 0px 1px 3px 1px rgba(0, 0, 0, 0.15);\n",
              "      filter: drop-shadow(0px 1px 2px rgba(0, 0, 0, 0.3));\n",
              "      fill: #FFFFFF;\n",
              "    }\n",
              "  </style>\n",
              "\n",
              "    <script>\n",
              "      const buttonEl =\n",
              "        document.querySelector('#df-6131de69-ff39-4ef2-b81a-1c6ca172db14 button.colab-df-convert');\n",
              "      buttonEl.style.display =\n",
              "        google.colab.kernel.accessAllowed ? 'block' : 'none';\n",
              "\n",
              "      async function convertToInteractive(key) {\n",
              "        const element = document.querySelector('#df-6131de69-ff39-4ef2-b81a-1c6ca172db14');\n",
              "        const dataTable =\n",
              "          await google.colab.kernel.invokeFunction('convertToInteractive',\n",
              "                                                    [key], {});\n",
              "        if (!dataTable) return;\n",
              "\n",
              "        const docLinkHtml = 'Like what you see? Visit the ' +\n",
              "          '<a target=\"_blank\" href=https://colab.research.google.com/notebooks/data_table.ipynb>data table notebook</a>'\n",
              "          + ' to learn more about interactive tables.';\n",
              "        element.innerHTML = '';\n",
              "        dataTable['output_type'] = 'display_data';\n",
              "        await google.colab.output.renderOutput(dataTable, element);\n",
              "        const docLink = document.createElement('div');\n",
              "        docLink.innerHTML = docLinkHtml;\n",
              "        element.appendChild(docLink);\n",
              "      }\n",
              "    </script>\n",
              "  </div>\n",
              "\n",
              "\n",
              "<div id=\"df-3555ffc7-01b9-4b9b-a0c7-da67b2c7c2c1\">\n",
              "  <button class=\"colab-df-quickchart\" onclick=\"quickchart('df-3555ffc7-01b9-4b9b-a0c7-da67b2c7c2c1')\"\n",
              "            title=\"Suggest charts\"\n",
              "            style=\"display:none;\">\n",
              "\n",
              "<svg xmlns=\"http://www.w3.org/2000/svg\" height=\"24px\"viewBox=\"0 0 24 24\"\n",
              "     width=\"24px\">\n",
              "    <g>\n",
              "        <path d=\"M19 3H5c-1.1 0-2 .9-2 2v14c0 1.1.9 2 2 2h14c1.1 0 2-.9 2-2V5c0-1.1-.9-2-2-2zM9 17H7v-7h2v7zm4 0h-2V7h2v10zm4 0h-2v-4h2v4z\"/>\n",
              "    </g>\n",
              "</svg>\n",
              "  </button>\n",
              "\n",
              "<style>\n",
              "  .colab-df-quickchart {\n",
              "      --bg-color: #E8F0FE;\n",
              "      --fill-color: #1967D2;\n",
              "      --hover-bg-color: #E2EBFA;\n",
              "      --hover-fill-color: #174EA6;\n",
              "      --disabled-fill-color: #AAA;\n",
              "      --disabled-bg-color: #DDD;\n",
              "  }\n",
              "\n",
              "  [theme=dark] .colab-df-quickchart {\n",
              "      --bg-color: #3B4455;\n",
              "      --fill-color: #D2E3FC;\n",
              "      --hover-bg-color: #434B5C;\n",
              "      --hover-fill-color: #FFFFFF;\n",
              "      --disabled-bg-color: #3B4455;\n",
              "      --disabled-fill-color: #666;\n",
              "  }\n",
              "\n",
              "  .colab-df-quickchart {\n",
              "    background-color: var(--bg-color);\n",
              "    border: none;\n",
              "    border-radius: 50%;\n",
              "    cursor: pointer;\n",
              "    display: none;\n",
              "    fill: var(--fill-color);\n",
              "    height: 32px;\n",
              "    padding: 0;\n",
              "    width: 32px;\n",
              "  }\n",
              "\n",
              "  .colab-df-quickchart:hover {\n",
              "    background-color: var(--hover-bg-color);\n",
              "    box-shadow: 0 1px 2px rgba(60, 64, 67, 0.3), 0 1px 3px 1px rgba(60, 64, 67, 0.15);\n",
              "    fill: var(--button-hover-fill-color);\n",
              "  }\n",
              "\n",
              "  .colab-df-quickchart-complete:disabled,\n",
              "  .colab-df-quickchart-complete:disabled:hover {\n",
              "    background-color: var(--disabled-bg-color);\n",
              "    fill: var(--disabled-fill-color);\n",
              "    box-shadow: none;\n",
              "  }\n",
              "\n",
              "  .colab-df-spinner {\n",
              "    border: 2px solid var(--fill-color);\n",
              "    border-color: transparent;\n",
              "    border-bottom-color: var(--fill-color);\n",
              "    animation:\n",
              "      spin 1s steps(1) infinite;\n",
              "  }\n",
              "\n",
              "  @keyframes spin {\n",
              "    0% {\n",
              "      border-color: transparent;\n",
              "      border-bottom-color: var(--fill-color);\n",
              "      border-left-color: var(--fill-color);\n",
              "    }\n",
              "    20% {\n",
              "      border-color: transparent;\n",
              "      border-left-color: var(--fill-color);\n",
              "      border-top-color: var(--fill-color);\n",
              "    }\n",
              "    30% {\n",
              "      border-color: transparent;\n",
              "      border-left-color: var(--fill-color);\n",
              "      border-top-color: var(--fill-color);\n",
              "      border-right-color: var(--fill-color);\n",
              "    }\n",
              "    40% {\n",
              "      border-color: transparent;\n",
              "      border-right-color: var(--fill-color);\n",
              "      border-top-color: var(--fill-color);\n",
              "    }\n",
              "    60% {\n",
              "      border-color: transparent;\n",
              "      border-right-color: var(--fill-color);\n",
              "    }\n",
              "    80% {\n",
              "      border-color: transparent;\n",
              "      border-right-color: var(--fill-color);\n",
              "      border-bottom-color: var(--fill-color);\n",
              "    }\n",
              "    90% {\n",
              "      border-color: transparent;\n",
              "      border-bottom-color: var(--fill-color);\n",
              "    }\n",
              "  }\n",
              "</style>\n",
              "\n",
              "  <script>\n",
              "    async function quickchart(key) {\n",
              "      const quickchartButtonEl =\n",
              "        document.querySelector('#' + key + ' button');\n",
              "      quickchartButtonEl.disabled = true;  // To prevent multiple clicks.\n",
              "      quickchartButtonEl.classList.add('colab-df-spinner');\n",
              "      try {\n",
              "        const charts = await google.colab.kernel.invokeFunction(\n",
              "            'suggestCharts', [key], {});\n",
              "      } catch (error) {\n",
              "        console.error('Error during call to suggestCharts:', error);\n",
              "      }\n",
              "      quickchartButtonEl.classList.remove('colab-df-spinner');\n",
              "      quickchartButtonEl.classList.add('colab-df-quickchart-complete');\n",
              "    }\n",
              "    (() => {\n",
              "      let quickchartButtonEl =\n",
              "        document.querySelector('#df-3555ffc7-01b9-4b9b-a0c7-da67b2c7c2c1 button');\n",
              "      quickchartButtonEl.style.display =\n",
              "        google.colab.kernel.accessAllowed ? 'block' : 'none';\n",
              "    })();\n",
              "  </script>\n",
              "</div>\n",
              "\n",
              "    </div>\n",
              "  </div>\n"
            ],
            "application/vnd.google.colaboratory.intrinsic+json": {
              "type": "dataframe",
              "variable_name": "df",
              "summary": "{\n  \"name\": \"df\",\n  \"rows\": 130,\n  \"fields\": [\n    {\n      \"column\": \"Sectored Number\",\n      \"properties\": {\n        \"dtype\": \"string\",\n        \"num_unique_values\": 130,\n        \"samples\": [\n          \"PS-56\",\n          \"PS-41\",\n          \"PS-20\"\n        ],\n        \"semantic_type\": \"\",\n        \"description\": \"\"\n      }\n    },\n    {\n      \"column\": \"Sector Name\",\n      \"properties\": {\n        \"dtype\": \"category\",\n        \"num_unique_values\": 30,\n        \"samples\": [\n          \"Kemari\",\n          \"TandoAllhayar\",\n          \"Malir\"\n        ],\n        \"semantic_type\": \"\",\n        \"description\": \"\"\n      }\n    },\n    {\n      \"column\": \"Total Voters\",\n      \"properties\": {\n        \"dtype\": \"string\",\n        \"num_unique_values\": 130,\n        \"samples\": [\n          \"217011\",\n          \"248842\",\n          \"227023\"\n        ],\n        \"semantic_type\": \"\",\n        \"description\": \"\"\n      }\n    },\n    {\n      \"column\": \"Total Male Voters\",\n      \"properties\": {\n        \"dtype\": \"string\",\n        \"num_unique_values\": 130,\n        \"samples\": [\n          \"114097\",\n          \"133796\",\n          \"122208\"\n        ],\n        \"semantic_type\": \"\",\n        \"description\": \"\"\n      }\n    },\n    {\n      \"column\": \"Total Female Voters\",\n      \"properties\": {\n        \"dtype\": \"string\",\n        \"num_unique_values\": 130,\n        \"samples\": [\n          \"102914\",\n          \"115046\",\n          \"104815\"\n        ],\n        \"semantic_type\": \"\",\n        \"description\": \"\"\n      }\n    },\n    {\n      \"column\": \"Male Vote Casted\",\n      \"properties\": {\n        \"dtype\": \"string\",\n        \"num_unique_values\": 130,\n        \"samples\": [\n          \"65760\",\n          \"74940\",\n          \"59959\"\n        ],\n        \"semantic_type\": \"\",\n        \"description\": \"\"\n      }\n    },\n    {\n      \"column\": \"Female Vote Casted\",\n      \"properties\": {\n        \"dtype\": \"string\",\n        \"num_unique_values\": 130,\n        \"samples\": [\n          \"53100\",\n          \"61822\",\n          \"47860\"\n        ],\n        \"semantic_type\": \"\",\n        \"description\": \"\"\n      }\n    },\n    {\n      \"column\": \"Total Vote Casted\",\n      \"properties\": {\n        \"dtype\": \"string\",\n        \"num_unique_values\": 130,\n        \"samples\": [\n          \"118860\",\n          \"136762\",\n          \"107819\"\n        ],\n        \"semantic_type\": \"\",\n        \"description\": \"\"\n      }\n    },\n    {\n      \"column\": \"Accepted Votes\",\n      \"properties\": {\n        \"dtype\": \"string\",\n        \"num_unique_values\": 130,\n        \"samples\": [\n          \"115411\",\n          \"129218\",\n          \"104151\"\n        ],\n        \"semantic_type\": \"\",\n        \"description\": \"\"\n      }\n    },\n    {\n      \"column\": \"Discarded Votes\",\n      \"properties\": {\n        \"dtype\": \"string\",\n        \"num_unique_values\": 127,\n        \"samples\": [\n          \"2400\",\n          \"132\",\n          \"1385\"\n        ],\n        \"semantic_type\": \"\",\n        \"description\": \"\"\n      }\n    },\n    {\n      \"column\": \"Winning Party\",\n      \"properties\": {\n        \"dtype\": \"category\",\n        \"num_unique_values\": 5,\n        \"samples\": [\n          \"IND\",\n          \"JIP\",\n          \"GDA\"\n        ],\n        \"semantic_type\": \"\",\n        \"description\": \"\"\n      }\n    }\n  ]\n}"
            }
          },
          "metadata": {},
          "execution_count": 71
        }
      ]
    },
    {
      "cell_type": "markdown",
      "source": [
        "**Biggest Sector in Sindh Assembly**"
      ],
      "metadata": {
        "id": "OsnzOCUmlSjt"
      }
    },
    {
      "cell_type": "code",
      "source": [
        "df['Sectored Number'].value_counts()"
      ],
      "metadata": {
        "colab": {
          "base_uri": "https://localhost:8080/"
        },
        "id": "SgGpYXpPkaOb",
        "outputId": "266b60dc-e226-4e67-e318-0d7ab38b3e59"
      },
      "execution_count": 72,
      "outputs": [
        {
          "output_type": "execute_result",
          "data": {
            "text/plain": [
              "PS-1      1\n",
              "PS-98     1\n",
              "PS-96     1\n",
              "PS-95     1\n",
              "PS-94     1\n",
              "         ..\n",
              "PS-39     1\n",
              "PS-38     1\n",
              "PS-37     1\n",
              "PS-36     1\n",
              "PS-130    1\n",
              "Name: Sectored Number, Length: 130, dtype: int64"
            ]
          },
          "metadata": {},
          "execution_count": 72
        }
      ]
    },
    {
      "cell_type": "code",
      "source": [
        "df['Sector Name'].value_counts()"
      ],
      "metadata": {
        "colab": {
          "base_uri": "https://localhost:8080/"
        },
        "id": "WtZujxGVrMD0",
        "outputId": "34376ffb-d782-43e8-b78e-662fbb4976a8"
      },
      "execution_count": 73,
      "outputs": [
        {
          "output_type": "execute_result",
          "data": {
            "text/plain": [
              "KarachiWasti          9\n",
              "KarachiSharqi         9\n",
              "KorangiKarachi        7\n",
              "KarachiGarbi          6\n",
              "Malir                 6\n",
              "Hyderabad             6\n",
              "KhairPur              6\n",
              "Kemari                5\n",
              "Badin                 5\n",
              "KarachiSouth          5\n",
              "Sanghar               5\n",
              "MirPurKhas            4\n",
              "Tharparkar            4\n",
              "ShaheedBenazirAbad    4\n",
              "NowshehraFeroz        4\n",
              "Sukkur                4\n",
              "Ghotki                4\n",
              "Qamabr                4\n",
              "Larkana               4\n",
              "Daddu                 4\n",
              "Jamshoro              3\n",
              "Jacobabad             3\n",
              "Kashmor               3\n",
              "UmarKot               3\n",
              "ShikarPur             3\n",
              "Thatta                2\n",
              "Sajawal               2\n",
              "TandoMuhammadKhan     2\n",
              "Mutiari               2\n",
              "TandoAllhayar         2\n",
              "Name: Sector Name, dtype: int64"
            ]
          },
          "metadata": {},
          "execution_count": 73
        }
      ]
    },
    {
      "cell_type": "code",
      "source": [
        "max_slices = 5\n",
        "value_counts = df['Sector Name'].value_counts().sort_values(ascending=False)\n",
        "top_categories = value_counts.index[:max_slices]\n",
        "plt.pie(value_counts[top_categories].values, labels=top_categories.tolist(), autopct='%1.1f%%')\n",
        "plt.title('Pie Chart of Top 5 Sector Seats')\n",
        "plt.show()"
      ],
      "metadata": {
        "colab": {
          "base_uri": "https://localhost:8080/",
          "height": 428
        },
        "id": "zeRmqzLfl5Fc",
        "outputId": "739c6a31-9630-4628-9669-f952b1212d4a"
      },
      "execution_count": 74,
      "outputs": [
        {
          "output_type": "display_data",
          "data": {
            "text/plain": [
              "<Figure size 640x480 with 1 Axes>"
            ],
            "image/png": "[encoded data removed]"
          },
          "metadata": {}
        }
      ]
    },
    {
      "cell_type": "code",
      "source": [
        "df.columns"
      ],
      "metadata": {
        "colab": {
          "base_uri": "https://localhost:8080/"
        },
        "id": "nhE0GWg4wx37",
        "outputId": "7a30d218-2263-403a-c51d-a94c26fd3c98"
      },
      "execution_count": 75,
      "outputs": [
        {
          "output_type": "execute_result",
          "data": {
            "text/plain": [
              "Index(['Sectored Number', 'Sector Name', 'Total Voters', 'Total Male Voters',\n",
              "       'Total Female Voters', 'Male Vote Casted', 'Female Vote Casted',\n",
              "       'Total Vote Casted', 'Accepted Votes', 'Discarded Votes',\n",
              "       'Winning Party'],\n",
              "      dtype='object')"
            ]
          },
          "metadata": {},
          "execution_count": 75
        }
      ]
    },
    {
      "cell_type": "code",
      "source": [
        "df[\"Total Female Voters\"] = pd.to_numeric(df[\"Total Female Voters\"], errors=\"coerce\")\n",
        "Total_Female_Voters = df[\"Total Female Voters\"].sum()\n",
        "print(f\"Total Female Voters:  {Total_Female_Voters}\")"
      ],
      "metadata": {
        "colab": {
          "base_uri": "https://localhost:8080/"
        },
        "id": "djP5ILKYyKjI",
        "outputId": "c939372b-f78a-4977-965c-7f3186eed259"
      },
      "execution_count": 81,
      "outputs": [
        {
          "output_type": "stream",
          "name": "stdout",
          "text": [
            "Total Female Voters:  12381804\n"
          ]
        }
      ]
    },
    {
      "cell_type": "code",
      "source": [
        "df[\"Total Male Voters\"] = pd.to_numeric(df[\"Total Male Voters\"], errors=\"coerce\")\n",
        "Total_Male_Voters = df[\"Total Male Voters\"].sum()\n",
        "print(f\"Total Male Voters:  {Total_Male_Voters}\")"
      ],
      "metadata": {
        "colab": {
          "base_uri": "https://localhost:8080/"
        },
        "id": "MAlFIJiuyarT",
        "outputId": "c7e68b74-843b-4b1a-e356-165b50524dc1"
      },
      "execution_count": 85,
      "outputs": [
        {
          "output_type": "stream",
          "name": "stdout",
          "text": [
            "Total Male Voters:  14612166\n"
          ]
        }
      ]
    },
    {
      "cell_type": "code",
      "source": [
        "from plotly.express import bar\n",
        "fig = bar(df, x= df['Total Male Voters'], y= df['Total Female Voters'] , color=\"Total Male Voters\")\n",
        "fig.update_layout(title=\"Frequency Chart\")\n",
        "fig.show()"
      ],
      "metadata": {
        "colab": {
          "base_uri": "https://localhost:8080/",
          "height": 542
        },
        "id": "pC98m2Qs0ewg",
        "outputId": "13fccb25-c602-4bf7-cd40-857b298d0b7f"
      },
      "execution_count": 89,
      "outputs": [
        {
          "output_type": "display_data",
          "data": {
            "text/html": [
              "<html>\n",
              "<head><meta charset=\"utf-8\" /></head>\n",
              "<body>\n",
              "    <div>            <script src=\"https://cdnjs.cloudflare.com/ajax/libs/mathjax/2.7.5/MathJax.js?config=TeX-AMS-MML_SVG\"></script><script type=\"text/javascript\">if (window.MathJax && window.MathJax.Hub && window.MathJax.Hub.Config) {window.MathJax.Hub.Config({SVG: {font: \"STIX-Web\"}});}</script>                <script type=\"text/javascript\">window.PlotlyConfig = {MathJaxConfig: 'local'};</script>\n",
              "        <script charset=\"utf-8\" src=\"https://cdn.plot.ly/plotly-2.24.1.min.js\"></script>                <div id=\"d7803ea8-6b27-4c10-9837-4273343efd0e\" class=\"plotly-graph-div\" style=\"height:525px; width:100%;\"></div>            <script type=\"text/javascript\">                                    window.PLOTLYENV=window.PLOTLYENV || {};                                    if (document.getElementById(\"d7803ea8-6b27-4c10-9837-4273343efd0e\")) {                    Plotly.newPlot(                        \"d7803ea8-6b27-4c10-9837-4273343efd0e\",                        [{\"alignmentgroup\":\"True\",\"hovertemplate\":\"Total Male Voters=%{marker.color}\\u003cbr\\u003eTotal Female Voters=%{y}\\u003cextra\\u003e\\u003c\\u002fextra\\u003e\",\"legendgroup\":\"\",\"marker\":{\"color\":[114290,96467,105805,104505,110871,103657,141411,101484,141097,129768,102467,109019,121726,114636,112709,109503,111481,122060,124695,122208,123416,99642,102094,114493,129838,115308,118729,110202,116780,126696,132866,121263,135554,129822,121662,129629,138893,115677,115389,127197,133796,120922,132790,132417,130611,101735,119175,110081,110215,91805,108951,65364,102015,106269,118747,114097,107080,128608,111300,73009,105281,99040,127661,145007,112237,98499,92695,103518,104701,105372,103026,89392,118149,114929,144376,141978,95627,84606,78601,137521,120787,112073,130282,72996,83964,50180,61616,93262,105204,150938,107841,149426,106657,139999,74119,99154,34427,49239,105578,113186,155974,130363,105545,113283,89947,125393,140114,138135,118935,165119,70531,93061,121639,132196,100659,24624,58989,66509,143074,136449,121295,112430,111723,114709,138917,144359,134507,139857,139541,117149],\"coloraxis\":\"coloraxis\",\"pattern\":{\"shape\":\"\"}},\"name\":\"\",\"offsetgroup\":\"\",\"orientation\":\"v\",\"showlegend\":false,\"textposition\":\"auto\",\"x\":[114290,96467,105805,104505,110871,103657,141411,101484,141097,129768,102467,109019,121726,114636,112709,109503,111481,122060,124695,122208,123416,99642,102094,114493,129838,115308,118729,110202,116780,126696,132866,121263,135554,129822,121662,129629,138893,115677,115389,127197,133796,120922,132790,132417,130611,101735,119175,110081,110215,91805,108951,65364,102015,106269,118747,114097,107080,128608,111300,73009,105281,99040,127661,145007,112237,98499,92695,103518,104701,105372,103026,89392,118149,114929,144376,141978,95627,84606,78601,137521,120787,112073,130282,72996,83964,50180,61616,93262,105204,150938,107841,149426,106657,139999,74119,99154,34427,49239,105578,113186,155974,130363,105545,113283,89947,125393,140114,138135,118935,165119,70531,93061,121639,132196,100659,24624,58989,66509,143074,136449,121295,112430,111723,114709,138917,144359,134507,139857,139541,117149],\"xaxis\":\"x\",\"y\":[99939,84649,90856,88914,94797,87985,125694,90977,122585,114909,91064,93688,103188,97101,93294,88405,93329,101286,107245,104815,104937,86229,88539,98469,114257,105521,107705,96934,102114,115191,120723,105931,114571,110316,104046,107935,119580,104304,94572,109310,115046,104643,116649,115733,112565,88148,105298,97787,99462,80679,98238,55625,85478,88686,101407,102914,93538,112274,99450,66898,93767,79933,112016,122103,87394,85438,79812,89052,91163,91949,89973,74030,98400,92855,123175,112857,81402,73648,63178,118024,103079,97491,111216,60067,67842,35725,45239,66481,82299,133869,96579,125617,82804,110717,57210,77096,21536,41383,92740,107767,143921,116962,90909,102411,72635,102394,110823,115073,104042,150536,52252,64524,90263,94074,72015,18279,44324,41430,104288,101252,94315,94652,86947,92610,129269,126193,111127,119269,123991,107676],\"yaxis\":\"y\",\"type\":\"bar\"}],                        {\"template\":{\"data\":{\"histogram2dcontour\":[{\"type\":\"histogram2dcontour\",\"colorbar\":{\"outlinewidth\":0,\"ticks\":\"\"},\"colorscale\":[[0.0,\"#0d0887\"],[0.1111111111111111,\"#46039f\"],[0.2222222222222222,\"#7201a8\"],[0.3333333333333333,\"#9c179e\"],[0.4444444444444444,\"#bd3786\"],[0.5555555555555556,\"#d8576b\"],[0.6666666666666666,\"#ed7953\"],[0.7777777777777778,\"#fb9f3a\"],[0.8888888888888888,\"#fdca26\"],[1.0,\"#f0f921\"]]}],\"choropleth\":[{\"type\":\"choropleth\",\"colorbar\":{\"outlinewidth\":0,\"ticks\":\"\"}}],\"histogram2d\":[{\"type\":\"histogram2d\",\"colorbar\":{\"outlinewidth\":0,\"ticks\":\"\"},\"colorscale\":[[0.0,\"#0d0887\"],[0.1111111111111111,\"#46039f\"],[0.2222222222222222,\"#7201a8\"],[0.3333333333333333,\"#9c179e\"],[0.4444444444444444,\"#bd3786\"],[0.5555555555555556,\"#d8576b\"],[0.6666666666666666,\"#ed7953\"],[0.7777777777777778,\"#fb9f3a\"],[0.8888888888888888,\"#fdca26\"],[1.0,\"#f0f921\"]]}],\"heatmap\":[{\"type\":\"heatmap\",\"colorbar\":{\"outlinewidth\":0,\"ticks\":\"\"},\"colorscale\":[[0.0,\"#0d0887\"],[0.1111111111111111,\"#46039f\"],[0.2222222222222222,\"#7201a8\"],[0.3333333333333333,\"#9c179e\"],[0.4444444444444444,\"#bd3786\"],[0.5555555555555556,\"#d8576b\"],[0.6666666666666666,\"#ed7953\"],[0.7777777777777778,\"#fb9f3a\"],[0.8888888888888888,\"#fdca26\"],[1.0,\"#f0f921\"]]}],\"heatmapgl\":[{\"type\":\"heatmapgl\",\"colorbar\":{\"outlinewidth\":0,\"ticks\":\"\"},\"colorscale\":[[0.0,\"#0d0887\"],[0.1111111111111111,\"#46039f\"],[0.2222222222222222,\"#7201a8\"],[0.3333333333333333,\"#9c179e\"],[0.4444444444444444,\"#bd3786\"],[0.5555555555555556,\"#d8576b\"],[0.6666666666666666,\"#ed7953\"],[0.7777777777777778,\"#fb9f3a\"],[0.8888888888888888,\"#fdca26\"],[1.0,\"#f0f921\"]]}],\"contourcarpet\":[{\"type\":\"contourcarpet\",\"colorbar\":{\"outlinewidth\":0,\"ticks\":\"\"}}],\"contour\":[{\"type\":\"contour\",\"colorbar\":{\"outlinewidth\":0,\"ticks\":\"\"},\"colorscale\":[[0.0,\"#0d0887\"],[0.1111111111111111,\"#46039f\"],[0.2222222222222222,\"#7201a8\"],[0.3333333333333333,\"#9c179e\"],[0.4444444444444444,\"#bd3786\"],[0.5555555555555556,\"#d8576b\"],[0.6666666666666666,\"#ed7953\"],[0.7777777777777778,\"#fb9f3a\"],[0.8888888888888888,\"#fdca26\"],[1.0,\"#f0f921\"]]}],\"surface\":[{\"type\":\"surface\",\"colorbar\":{\"outlinewidth\":0,\"ticks\":\"\"},\"colorscale\":[[0.0,\"#0d0887\"],[0.1111111111111111,\"#46039f\"],[0.2222222222222222,\"#7201a8\"],[0.3333333333333333,\"#9c179e\"],[0.4444444444444444,\"#bd3786\"],[0.5555555555555556,\"#d8576b\"],[0.6666666666666666,\"#ed7953\"],[0.7777777777777778,\"#fb9f3a\"],[0.8888888888888888,\"#fdca26\"],[1.0,\"#f0f921\"]]}],\"mesh3d\":[{\"type\":\"mesh3d\",\"colorbar\":{\"outlinewidth\":0,\"ticks\":\"\"}}],\"scatter\":[{\"fillpattern\":{\"fillmode\":\"overlay\",\"size\":10,\"solidity\":0.2},\"type\":\"scatter\"}],\"parcoords\":[{\"type\":\"parcoords\",\"line\":{\"colorbar\":{\"outlinewidth\":0,\"ticks\":\"\"}}}],\"scatterpolargl\":[{\"type\":\"scatterpolargl\",\"marker\":{\"colorbar\":{\"outlinewidth\":0,\"ticks\":\"\"}}}],\"bar\":[{\"error_x\":{\"color\":\"#2a3f5f\"},\"error_y\":{\"color\":\"#2a3f5f\"},\"marker\":{\"line\":{\"color\":\"#E5ECF6\",\"width\":0.5},\"pattern\":{\"fillmode\":\"overlay\",\"size\":10,\"solidity\":0.2}},\"type\":\"bar\"}],\"scattergeo\":[{\"type\":\"scattergeo\",\"marker\":{\"colorbar\":{\"outlinewidth\":0,\"ticks\":\"\"}}}],\"scatterpolar\":[{\"type\":\"scatterpolar\",\"marker\":{\"colorbar\":{\"outlinewidth\":0,\"ticks\":\"\"}}}],\"histogram\":[{\"marker\":{\"pattern\":{\"fillmode\":\"overlay\",\"size\":10,\"solidity\":0.2}},\"type\":\"histogram\"}],\"scattergl\":[{\"type\":\"scattergl\",\"marker\":{\"colorbar\":{\"outlinewidth\":0,\"ticks\":\"\"}}}],\"scatter3d\":[{\"type\":\"scatter3d\",\"line\":{\"colorbar\":{\"outlinewidth\":0,\"ticks\":\"\"}},\"marker\":{\"colorbar\":{\"outlinewidth\":0,\"ticks\":\"\"}}}],\"scattermapbox\":[{\"type\":\"scattermapbox\",\"marker\":{\"colorbar\":{\"outlinewidth\":0,\"ticks\":\"\"}}}],\"scatterternary\":[{\"type\":\"scatterternary\",\"marker\":{\"colorbar\":{\"outlinewidth\":0,\"ticks\":\"\"}}}],\"scattercarpet\":[{\"type\":\"scattercarpet\",\"marker\":{\"colorbar\":{\"outlinewidth\":0,\"ticks\":\"\"}}}],\"carpet\":[{\"aaxis\":{\"endlinecolor\":\"#2a3f5f\",\"gridcolor\":\"white\",\"linecolor\":\"white\",\"minorgridcolor\":\"white\",\"startlinecolor\":\"#2a3f5f\"},\"baxis\":{\"endlinecolor\":\"#2a3f5f\",\"gridcolor\":\"white\",\"linecolor\":\"white\",\"minorgridcolor\":\"white\",\"startlinecolor\":\"#2a3f5f\"},\"type\":\"carpet\"}],\"table\":[{\"cells\":{\"fill\":{\"color\":\"#EBF0F8\"},\"line\":{\"color\":\"white\"}},\"header\":{\"fill\":{\"color\":\"#C8D4E3\"},\"line\":{\"color\":\"white\"}},\"type\":\"table\"}],\"barpolar\":[{\"marker\":{\"line\":{\"color\":\"#E5ECF6\",\"width\":0.5},\"pattern\":{\"fillmode\":\"overlay\",\"size\":10,\"solidity\":0.2}},\"type\":\"barpolar\"}],\"pie\":[{\"automargin\":true,\"type\":\"pie\"}]},\"layout\":{\"autotypenumbers\":\"strict\",\"colorway\":[\"#636efa\",\"#EF553B\",\"#00cc96\",\"#ab63fa\",\"#FFA15A\",\"#19d3f3\",\"#FF6692\",\"#B6E880\",\"#FF97FF\",\"#FECB52\"],\"font\":{\"color\":\"#2a3f5f\"},\"hovermode\":\"closest\",\"hoverlabel\":{\"align\":\"left\"},\"paper_bgcolor\":\"white\",\"plot_bgcolor\":\"#E5ECF6\",\"polar\":{\"bgcolor\":\"#E5ECF6\",\"angularaxis\":{\"gridcolor\":\"white\",\"linecolor\":\"white\",\"ticks\":\"\"},\"radialaxis\":{\"gridcolor\":\"white\",\"linecolor\":\"white\",\"ticks\":\"\"}},\"ternary\":{\"bgcolor\":\"#E5ECF6\",\"aaxis\":{\"gridcolor\":\"white\",\"linecolor\":\"white\",\"ticks\":\"\"},\"baxis\":{\"gridcolor\":\"white\",\"linecolor\":\"white\",\"ticks\":\"\"},\"caxis\":{\"gridcolor\":\"white\",\"linecolor\":\"white\",\"ticks\":\"\"}},\"coloraxis\":{\"colorbar\":{\"outlinewidth\":0,\"ticks\":\"\"}},\"colorscale\":{\"sequential\":[[0.0,\"#0d0887\"],[0.1111111111111111,\"#46039f\"],[0.2222222222222222,\"#7201a8\"],[0.3333333333333333,\"#9c179e\"],[0.4444444444444444,\"#bd3786\"],[0.5555555555555556,\"#d8576b\"],[0.6666666666666666,\"#ed7953\"],[0.7777777777777778,\"#fb9f3a\"],[0.8888888888888888,\"#fdca26\"],[1.0,\"#f0f921\"]],\"sequentialminus\":[[0.0,\"#0d0887\"],[0.1111111111111111,\"#46039f\"],[0.2222222222222222,\"#7201a8\"],[0.3333333333333333,\"#9c179e\"],[0.4444444444444444,\"#bd3786\"],[0.5555555555555556,\"#d8576b\"],[0.6666666666666666,\"#ed7953\"],[0.7777777777777778,\"#fb9f3a\"],[0.8888888888888888,\"#fdca26\"],[1.0,\"#f0f921\"]],\"diverging\":[[0,\"#8e0152\"],[0.1,\"#c51b7d\"],[0.2,\"#de77ae\"],[0.3,\"#f1b6da\"],[0.4,\"#fde0ef\"],[0.5,\"#f7f7f7\"],[0.6,\"#e6f5d0\"],[0.7,\"#b8e186\"],[0.8,\"#7fbc41\"],[0.9,\"#4d9221\"],[1,\"#276419\"]]},\"xaxis\":{\"gridcolor\":\"white\",\"linecolor\":\"white\",\"ticks\":\"\",\"title\":{\"standoff\":15},\"zerolinecolor\":\"white\",\"automargin\":true,\"zerolinewidth\":2},\"yaxis\":{\"gridcolor\":\"white\",\"linecolor\":\"white\",\"ticks\":\"\",\"title\":{\"standoff\":15},\"zerolinecolor\":\"white\",\"automargin\":true,\"zerolinewidth\":2},\"scene\":{\"xaxis\":{\"backgroundcolor\":\"#E5ECF6\",\"gridcolor\":\"white\",\"linecolor\":\"white\",\"showbackground\":true,\"ticks\":\"\",\"zerolinecolor\":\"white\",\"gridwidth\":2},\"yaxis\":{\"backgroundcolor\":\"#E5ECF6\",\"gridcolor\":\"white\",\"linecolor\":\"white\",\"showbackground\":true,\"ticks\":\"\",\"zerolinecolor\":\"white\",\"gridwidth\":2},\"zaxis\":{\"backgroundcolor\":\"#E5ECF6\",\"gridcolor\":\"white\",\"linecolor\":\"white\",\"showbackground\":true,\"ticks\":\"\",\"zerolinecolor\":\"white\",\"gridwidth\":2}},\"shapedefaults\":{\"line\":{\"color\":\"#2a3f5f\"}},\"annotationdefaults\":{\"arrowcolor\":\"#2a3f5f\",\"arrowhead\":0,\"arrowwidth\":1},\"geo\":{\"bgcolor\":\"white\",\"landcolor\":\"#E5ECF6\",\"subunitcolor\":\"white\",\"showland\":true,\"showlakes\":true,\"lakecolor\":\"white\"},\"title\":{\"x\":0.05},\"mapbox\":{\"style\":\"light\"}}},\"xaxis\":{\"anchor\":\"y\",\"domain\":[0.0,1.0],\"title\":{\"text\":\"Total Male Voters\"}},\"yaxis\":{\"anchor\":\"x\",\"domain\":[0.0,1.0],\"title\":{\"text\":\"Total Female Voters\"}},\"coloraxis\":{\"colorbar\":{\"title\":{\"text\":\"Total Male Voters\"}},\"colorscale\":[[0.0,\"#0d0887\"],[0.1111111111111111,\"#46039f\"],[0.2222222222222222,\"#7201a8\"],[0.3333333333333333,\"#9c179e\"],[0.4444444444444444,\"#bd3786\"],[0.5555555555555556,\"#d8576b\"],[0.6666666666666666,\"#ed7953\"],[0.7777777777777778,\"#fb9f3a\"],[0.8888888888888888,\"#fdca26\"],[1.0,\"#f0f921\"]]},\"legend\":{\"tracegroupgap\":0},\"margin\":{\"t\":60},\"barmode\":\"relative\",\"title\":{\"text\":\"Frequency Chart\"}},                        {\"responsive\": true}                    ).then(function(){\n",
              "                            \n",
              "var gd = document.getElementById('d7803ea8-6b27-4c10-9837-4273343efd0e');\n",
              "var x = new MutationObserver(function (mutations, observer) {{\n",
              "        var display = window.getComputedStyle(gd).display;\n",
              "        if (!display || display === 'none') {{\n",
              "            console.log([gd, 'removed!']);\n",
              "            Plotly.purge(gd);\n",
              "            observer.disconnect();\n",
              "        }}\n",
              "}});\n",
              "\n",
              "// Listen for the removal of the full notebook cells\n",
              "var notebookContainer = gd.closest('#notebook-container');\n",
              "if (notebookContainer) {{\n",
              "    x.observe(notebookContainer, {childList: true});\n",
              "}}\n",
              "\n",
              "// Listen for the clearing of the current output cell\n",
              "var outputEl = gd.closest('.output');\n",
              "if (outputEl) {{\n",
              "    x.observe(outputEl, {childList: true});\n",
              "}}\n",
              "\n",
              "                        })                };                            </script>        </div>\n",
              "</body>\n",
              "</html>"
            ]
          },
          "metadata": {}
        }
      ]
    },
    {
      "cell_type": "code",
      "source": [
        "plt.figure(figsize=(10, 6))\n",
        "plt.subplot(1, 2, 1)\n",
        "plt.hist(df[\"Total Male Voters\"], bins=10, edgecolor='k', alpha=0.7)\n",
        "plt.xlabel(\"Values in Total Male Voters\")\n",
        "plt.ylabel(\"Frequency\")\n",
        "plt.title(\"Histogram of Total Male Voters\")\n",
        "plt.subplot(1, 2, 2)\n",
        "plt.hist(df[\"Total Female Voters\"], bins=10, edgecolor='k', alpha=0.7)\n",
        "plt.xlabel(\"Values in Total Female Voters\")\n",
        "plt.ylabel(\"Frequency\")\n",
        "plt.title(\"Histogram of Total Female Voters\")\n",
        "plt.suptitle(\"Comparison of Histograms for Total Male Voters1 and Total Female Voters\")\n",
        "plt.tight_layout()\n",
        "plt.show()"
      ],
      "metadata": {
        "colab": {
          "base_uri": "https://localhost:8080/",
          "height": 609
        },
        "id": "p2xQk8tx1pOc",
        "outputId": "9a4b0070-40c3-475e-c804-518feae2783d"
      },
      "execution_count": 93,
      "outputs": [
        {
          "output_type": "display_data",
          "data": {
            "text/plain": [
              "<Figure size 1000x600 with 2 Axes>"
            ],
            "image/png": "[encoded data removed]"
          },
          "metadata": {}
        }
      ]
    },
    {
      "cell_type": "code",
      "source": [
        "df[\"Male Vote Casted\"] = pd.to_numeric(df[\"Male Vote Casted\"], errors=\"coerce\")\n",
        "Male_Vote_Casted = df[\"Male Vote Casted\"].sum()\n",
        "print(f\"Male Vote Casted:  {Male_Vote_Casted}\")\n",
        "df[\"Female Vote Casted\"] = pd.to_numeric(df[\"Female Vote Casted\"], errors=\"coerce\")\n",
        "Female_Vote_Casted = df[\"Female Vote Casted\"].sum()\n",
        "print(f\"Female Vote Casted:  {Female_Vote_Casted}\")"
      ],
      "metadata": {
        "colab": {
          "base_uri": "https://localhost:8080/"
        },
        "id": "tSdgutkx3A5u",
        "outputId": "62edcb29-d2f0-4af9-b163-865c11573d60"
      },
      "execution_count": 96,
      "outputs": [
        {
          "output_type": "stream",
          "name": "stdout",
          "text": [
            "Male Vote Casted:  6837963\n",
            "Female Vote Casted:  4892994\n"
          ]
        }
      ]
    },
    {
      "cell_type": "markdown",
      "source": [
        "**Total Vote Casted**"
      ],
      "metadata": {
        "id": "SUqzcRY02Uy1"
      }
    },
    {
      "cell_type": "code",
      "source": [
        "plt.figure(figsize=(10, 6))\n",
        "plt.subplot(1, 2, 1)\n",
        "plt.hist(df[\"Male Vote Casted\"], bins=20, edgecolor='k', alpha=0.7)\n",
        "plt.xlabel(\"Values in Male Vote Casted\")\n",
        "plt.ylabel(\"Frequency\")\n",
        "plt.title(\"Histogram of Male Vote Casted\")\n",
        "plt.subplot(1, 2, 2)\n",
        "plt.hist(df[\"Female Vote Casted\"], bins=20, edgecolor='k', alpha=0.7)\n",
        "plt.xlabel(\"Values in Female Vote Casted\")\n",
        "plt.ylabel(\"Frequency\")\n",
        "plt.title(\"Histogram of Female Vote Casted\")\n",
        "plt.suptitle(\"Comparison of Histograms for Male Vote Casted and Female Vote Casted\")\n",
        "plt.tight_layout()\n",
        "plt.show()"
      ],
      "metadata": {
        "colab": {
          "base_uri": "https://localhost:8080/",
          "height": 609
        },
        "id": "BA56F0BU2ct-",
        "outputId": "6f397a39-6c51-42da-d76c-f8933dfd324f"
      },
      "execution_count": 97,
      "outputs": [
        {
          "output_type": "display_data",
          "data": {
            "text/plain": [
              "<Figure size 1000x600 with 2 Axes>"
            ],
            "image/png": "[encoded data removed]"
          },
          "metadata": {}
        }
      ]
    },
    {
      "cell_type": "markdown",
      "source": [
        "**Accepted or Discarded Votes**"
      ],
      "metadata": {
        "id": "jnI64ssc3jFm"
      }
    },
    {
      "cell_type": "code",
      "source": [
        "df.columns"
      ],
      "metadata": {
        "colab": {
          "base_uri": "https://localhost:8080/"
        },
        "id": "cK1VM_hm3sbB",
        "outputId": "441a9ec5-52eb-4ae8-a22a-9f33284f19b6"
      },
      "execution_count": 98,
      "outputs": [
        {
          "output_type": "execute_result",
          "data": {
            "text/plain": [
              "Index(['Sectored Number', 'Sector Name', 'Total Voters', 'Total Male Voters',\n",
              "       'Total Female Voters', 'Male Vote Casted', 'Female Vote Casted',\n",
              "       'Total Vote Casted', 'Accepted Votes', 'Discarded Votes',\n",
              "       'Winning Party'],\n",
              "      dtype='object')"
            ]
          },
          "metadata": {},
          "execution_count": 98
        }
      ]
    },
    {
      "cell_type": "code",
      "source": [
        "df[\"Accepted Votes\"] = pd.to_numeric(df[\"Accepted Votes\"], errors=\"coerce\")\n",
        "Accepted_Votes = df[\"Accepted Votes\"].sum()\n",
        "print(f\"Accepted Votes:  {Accepted_Votes}\")\n",
        "df[\"Discarded Votes\"] = pd.to_numeric(df[\"Discarded Votes\"], errors=\"coerce\")\n",
        "Discarded_Votes = df[\"Discarded Votes\"].sum()\n",
        "print(f\"Discarded Votes:  {Discarded_Votes}\")"
      ],
      "metadata": {
        "colab": {
          "base_uri": "https://localhost:8080/"
        },
        "id": "LjvFAuxS3mwK",
        "outputId": "bab3c288-d21c-4de3-ccb7-642a415afe4c"
      },
      "execution_count": 99,
      "outputs": [
        {
          "output_type": "stream",
          "name": "stdout",
          "text": [
            "Accepted Votes:  11328322\n",
            "Discarded Votes:  401941\n"
          ]
        }
      ]
    },
    {
      "cell_type": "code",
      "source": [
        "plt.figure(figsize=(10, 6))\n",
        "plt.subplot(1, 2, 1)\n",
        "plt.hist(df[\"Accepted Votes\"], bins=20, edgecolor='k', alpha=0.7)\n",
        "plt.xlabel(\"Values in Accepted Votes\")\n",
        "plt.ylabel(\"Frequency\")\n",
        "plt.title(\"Histogram of Accepted Votes\")\n",
        "plt.subplot(1, 2, 2)\n",
        "plt.hist(df[\"Discarded Votes\"], bins=20, edgecolor='k', alpha=0.7)\n",
        "plt.xlabel(\"Values in Discarded Votes\")\n",
        "plt.ylabel(\"Frequency\")\n",
        "plt.title(\"Histogram of Discarded Votes\")\n",
        "plt.suptitle(\"Comparison of Histograms for Accepted Votes and Discarded Votes\")\n",
        "plt.tight_layout()\n",
        "plt.show()"
      ],
      "metadata": {
        "colab": {
          "base_uri": "https://localhost:8080/",
          "height": 609
        },
        "id": "wXiaIPLq4DTR",
        "outputId": "70d50263-7bac-45b2-b82d-ba1d560c5ec4"
      },
      "execution_count": 100,
      "outputs": [
        {
          "output_type": "display_data",
          "data": {
            "text/plain": [
              "<Figure size 1000x600 with 2 Axes>"
            ],
            "image/png": "[encoded data removed]"
          },
          "metadata": {}
        }
      ]
    },
    {
      "cell_type": "markdown",
      "source": [
        "**Parties**"
      ],
      "metadata": {
        "id": "mmkMzdtP0Xoj"
      }
    },
    {
      "cell_type": "code",
      "source": [
        "max_slices = 4\n",
        "value_counts = df['Winning Party'].value_counts().sort_values(ascending=False)\n",
        "top_categories = value_counts.index[:max_slices]\n",
        "plt.pie(value_counts[top_categories].values, labels=top_categories.tolist(), autopct='%1.1f%%')\n",
        "plt.title('Pie Chart of Parties')\n",
        "plt.show()"
      ],
      "metadata": {
        "colab": {
          "base_uri": "https://localhost:8080/",
          "height": 428
        },
        "id": "AHixpRd2ztES",
        "outputId": "5f8c85e0-410b-49b5-a96f-18405f7509ec"
      },
      "execution_count": 84,
      "outputs": [
        {
          "output_type": "display_data",
          "data": {
            "text/plain": [
              "<Figure size 640x480 with 1 Axes>"
            ],
            "image/png": "[encoded data removed]"
          },
          "metadata": {}
        }
      ]
    },
    {
      "cell_type": "markdown",
      "source": [
        "## Author\n",
        "\n",
        "<a href=\"https://www.linkedin.com/in/khuzaima-ayaz-07710a231/\">Khuzaima Ayaz</a>"
      ],
      "metadata": {
        "id": "4n8Sw0do4xq4"
      }
    }
  ]
}